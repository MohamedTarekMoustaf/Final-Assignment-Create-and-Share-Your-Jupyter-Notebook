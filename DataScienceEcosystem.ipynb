{
 "cells": [
  {
   "cell_type": "markdown",
   "id": "c3d40279-9c70-49ae-8b77-260952538d57",
   "metadata": {},
   "source": [
    "# Data Science Tools and Ecosystem"
   ]
  },
  {
   "cell_type": "markdown",
   "id": "24500b2f-229e-4e8d-a1be-0aef9c1be1d0",
   "metadata": {},
   "source": [
    "## In this notebook, Data Science Tools and Ecosystem are summarized."
   ]
  },
  {
   "cell_type": "markdown",
   "id": "3214f220-b6d1-4483-bcc0-e258f933e782",
   "metadata": {
    "tags": []
   },
   "source": [
    "__Objectives:__\n",
    "* List of popular languages for Data Science.\n",
    "* List of popular libraries for Data Science.\n",
    "* List of popular development environments for Data Science.\n",
    "* Arithemetic operations handling using python kernel-based Jupyter Notebook."
   ]
  },
  {
   "cell_type": "markdown",
   "id": "e8972c8b-3bed-4103-bd92-6145dbd137ad",
   "metadata": {
    "tags": []
   },
   "source": [
    "Some of the popular languages that Data Scientists use are:\n",
    "1. Python\n",
    "2. Java.\n",
    "3. R.\n",
    "4. Scala.\n",
    "5. C++.\n"
   ]
  },
  {
   "cell_type": "markdown",
   "id": "bff97f6c-3ddd-4795-b333-3092995f264b",
   "metadata": {},
   "source": [
    "Some of the commonly used libraries used by Data Scientists include:\n",
    "1. Tensorflow.\n",
    "2. Keras.\n",
    "3. Pytorch.\n",
    "4. Scikit Learn."
   ]
  },
  {
   "cell_type": "markdown",
   "id": "48adbba7-5e9d-4dbe-8baf-ee63faf4da29",
   "metadata": {
    "tags": []
   },
   "source": [
    "| Data Science Tools |\n",
    "| :------: |\n",
    "| Rstudio |\n",
    "| Spyder |\n",
    "| Jupyter |"
   ]
  },
  {
   "cell_type": "markdown",
   "id": "f655d377-1aa1-432f-b7f2-56524bab308d",
   "metadata": {
    "tags": []
   },
   "source": [
    "### Below are a few examples of evaluating arithmetic expressions in Python.\n"
   ]
  },
  {
   "cell_type": "code",
   "execution_count": 3,
   "id": "c36da9a8-8812-4db8-a69e-5ab0d5255fb3",
   "metadata": {
    "tags": []
   },
   "outputs": [
    {
     "data": {
      "text/plain": [
       "17"
      ]
     },
     "execution_count": 3,
     "metadata": {},
     "output_type": "execute_result"
    }
   ],
   "source": [
    "# This a simple arithmetic expression to mutiply then add integers\n",
    "(3*4)+5"
   ]
  },
  {
   "cell_type": "code",
   "execution_count": 4,
   "id": "dbf021b0-9aa1-490c-bb0b-edae29fe03f4",
   "metadata": {
    "tags": []
   },
   "outputs": [
    {
     "data": {
      "text/plain": [
       "3.3333333333333335"
      ]
     },
     "execution_count": 4,
     "metadata": {},
     "output_type": "execute_result"
    }
   ],
   "source": [
    "# This will convert 200 minutes to hours by diving by 60.\n",
    "200/60"
   ]
  },
  {
   "cell_type": "markdown",
   "id": "3e277053-b972-4334-99ae-8d5a555b12da",
   "metadata": {},
   "source": [
    "## Author\n",
    "Mohamed Tarek Moustafa"
   ]
  },
  {
   "cell_type": "code",
   "execution_count": null,
   "id": "ed2b21ac-cab5-4c24-9396-294950465e2d",
   "metadata": {},
   "outputs": [],
   "source": []
  }
 ],
 "metadata": {
  "kernelspec": {
   "display_name": "Python",
   "language": "python",
   "name": "conda-env-python-py"
  },
  "language_info": {
   "codemirror_mode": {
    "name": "ipython",
    "version": 3
   },
   "file_extension": ".py",
   "mimetype": "text/x-python",
   "name": "python",
   "nbconvert_exporter": "python",
   "pygments_lexer": "ipython3",
   "version": "3.7.12"
  }
 },
 "nbformat": 4,
 "nbformat_minor": 5
}
